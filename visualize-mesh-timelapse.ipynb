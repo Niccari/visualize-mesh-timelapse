{
 "cells": [
  {
   "cell_type": "code",
   "execution_count": 1,
   "id": "24ff144f",
   "metadata": {},
   "outputs": [],
   "source": [
    "import json\n",
    "import pandas as pd\n",
    "\n",
    "from geojson import Feature\n",
    "from geojson import FeatureCollection\n",
    "from geojson import Polygon\n",
    "\n",
    "from ipyleaflet import Choropleth\n",
    "from ipyleaflet import Map\n",
    "from ipywidgets import SelectionRangeSlider"
   ]
  },
  {
   "cell_type": "code",
   "execution_count": 2,
   "id": "76a07be3",
   "metadata": {},
   "outputs": [],
   "source": [
    "df = pd.read_csv(\"mesh_timeseries.csv\")\n",
    "unique_dates = list(set(df[\"record_utc_date\"].tolist()))\n",
    "unique_dates.sort()"
   ]
  },
  {
   "cell_type": "code",
   "execution_count": 3,
   "id": "2b5dd183",
   "metadata": {},
   "outputs": [],
   "source": [
    "def filtering_dataframe(\n",
    "    df,\n",
    "    begin_date,\n",
    "    end_date\n",
    "):\n",
    "    df_filtered = df[\n",
    "        (df[\"record_utc_date\"] >= begin_date) & (df[\"record_utc_date\"] <= end_date)\n",
    "    ]\n",
    "    df_filtered = df_filtered.groupby([\"id\"], as_index=False).agg({\n",
    "        \"record_utc_date\": lambda x: begin_date,\n",
    "        \"value\": \"mean\",\n",
    "        \"polygon_geometry\": \"first\",\n",
    "    })\n",
    "    return df_filtered"
   ]
  },
  {
   "cell_type": "code",
   "execution_count": 4,
   "id": "5399379a",
   "metadata": {},
   "outputs": [],
   "source": [
    "def to_geojson(df: pd.DataFrame) -> tuple[FeatureCollection, dict]:\n",
    "    features = df[[\"id\", \"record_utc_date\", \"polygon_geometry\"]].apply(\n",
    "        lambda row: Feature(\n",
    "            data_id=row['id'],\n",
    "            time=f\"{row['record_utc_date']}\",\n",
    "            geometry=Polygon(json.loads(row['polygon_geometry']))\n",
    "        ), axis=1).tolist()\n",
    "\n",
    "    feature_collection = FeatureCollection(features=features)\n",
    "    mapping = {}\n",
    "    def add_mapping(row):\n",
    "        mapping[row['id']] = row[\"value\"]\n",
    "\n",
    "    df[[\"id\", \"record_utc_date\", \"value\"]].apply(add_mapping, axis=1).tolist()\n",
    "    return feature_collection, mapping\n",
    "\n",
    "def calc_new_data(df: pd.DataFrame, begin_date: str, end_date: str):\n",
    "    df_filtered = filtering_dataframe(df, begin_date, end_date)\n",
    "    return to_geojson(df_filtered)"
   ]
  },
  {
   "cell_type": "code",
   "execution_count": 5,
   "id": "a8ea1db7",
   "metadata": {},
   "outputs": [
    {
     "data": {
      "application/vnd.jupyter.widget-view+json": {
       "model_id": "d05d3a44103c47859498a13f4904bcfe",
       "version_major": 2,
       "version_minor": 0
      },
      "text/plain": [
       "SelectionRangeSlider(description='date: ', index=(0, 1), options=('2022-02-06T00:00:00Z', '2022-02-06T00:01:00…"
      ]
     },
     "metadata": {},
     "output_type": "display_data"
    }
   ],
   "source": [
    "datetime_slider = SelectionRangeSlider(\n",
    "    description=\"date: \",\n",
    "    options=unique_dates,\n",
    "    index=(0, len(unique_dates)//2),\n",
    ")\n",
    "\n",
    "def update_date(change):\n",
    "    begin_date = min(datetime_slider.value)\n",
    "    end_date = max(datetime_slider.value)\n",
    "    feature_collection, mapper = calc_new_data(df, begin_date, end_date)\n",
    "    try:\n",
    "        layer.choro_data = mapper\n",
    "    # note: layer.geo_data may not have some keys at this moment, ignore them.\n",
    "    #           It will be resolved in the next line(layer.geo_data = ...)\n",
    "    except KeyError:\n",
    "        pass\n",
    "    layer.geo_data = feature_collection\n",
    "    layer.value_max =  max(mapper.values())\n",
    "    layer.value_min = min(mapper.values())\n",
    "\n",
    "datetime_slider.observe(update_date, names='value')\n",
    "datetime_slider"
   ]
  },
  {
   "cell_type": "code",
   "execution_count": 6,
   "id": "c7fc72ee",
   "metadata": {
    "scrolled": true
   },
   "outputs": [
    {
     "data": {
      "application/vnd.jupyter.widget-view+json": {
       "model_id": "a86f268bf3a947ee87ae04f9c95fc912",
       "version_major": 2,
       "version_minor": 0
      },
      "text/plain": [
       "Map(center=[35.667, 139.7], controls=(ZoomControl(options=['position', 'zoom_in_text', 'zoom_in_title', 'zoom_…"
      ]
     },
     "metadata": {},
     "output_type": "display_data"
    }
   ],
   "source": [
    "feature_collection, mapper = calc_new_data(\n",
    "    df, min(datetime_slider.value), max(datetime_slider.value))\n",
    "layer = Choropleth(\n",
    "    geo_data=feature_collection,\n",
    "    choro_data=mapper,\n",
    "    border_color='black',\n",
    "    key_on='data_id',\n",
    "    value_min=min(mapper.values()),\n",
    "    value_max=max(mapper.values()),\n",
    "    style={\n",
    "        'fillOpacity': 0.8,\n",
    "    }\n",
    ")\n",
    "\n",
    "# FIXME: should set center/zoom calculated from feature_collection\n",
    "m = Map(center = (35.667, 139.7), zoom = 7)\n",
    "m.add_layer(layer)\n",
    "m"
   ]
  }
 ],
 "metadata": {
  "kernelspec": {
   "display_name": "Python 3 (ipykernel)",
   "language": "python",
   "name": "python3"
  },
  "language_info": {
   "codemirror_mode": {
    "name": "ipython",
    "version": 3
   },
   "file_extension": ".py",
   "mimetype": "text/x-python",
   "name": "python",
   "nbconvert_exporter": "python",
   "pygments_lexer": "ipython3",
   "version": "3.9.9"
  }
 },
 "nbformat": 4,
 "nbformat_minor": 5
}
